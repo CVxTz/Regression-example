{
 "cells": [
  {
   "cell_type": "code",
   "execution_count": 3,
   "metadata": {},
   "outputs": [],
   "source": [
    "import numpy as np\n",
    "import pandas as pd\n",
    "%matplotlib inline\n",
    "import matplotlib.pyplot as plt\n",
    "import matplotlib as mpl\n",
    "\n",
    "train = pd.read_csv('data/train.csv')\n",
    "test = pd.read_csv('data/test.csv')\n",
    "\n",
    "catcols=[]\n",
    "for col in train.columns:\n",
    "    if col.startswith('cat'):\n",
    "        catcols.append(col)\n",
    "\n",
    "numcols=[]\n",
    "for col in train.columns:\n",
    "    if col.startswith('cont'):\n",
    "        numcols.append(col)"
   ]
  },
  {
   "cell_type": "code",
   "execution_count": 5,
   "metadata": {},
   "outputs": [],
   "source": [
    "print catcols"
   ]
  },
  {
   "cell_type": "code",
   "execution_count": 6,
   "metadata": {},
   "outputs": [
    {
     "data": {
      "text/plain": [
       "['cont1',\n",
       " 'cont2',\n",
       " 'cont3',\n",
       " 'cont4',\n",
       " 'cont5',\n",
       " 'cont6',\n",
       " 'cont7',\n",
       " 'cont8',\n",
       " 'cont9',\n",
       " 'cont10',\n",
       " 'cont11',\n",
       " 'cont12',\n",
       " 'cont13',\n",
       " 'cont14']"
      ]
     },
     "execution_count": 6,
     "output_type": "execute_result",
     "metadata": {}
    }
   ],
   "source": [
    "numcols"
   ]
  },
  {
   "cell_type": "code",
   "execution_count": 8,
   "metadata": {},
   "outputs": [
    {
     "name": "stdout",
     "output_type": "stream",
     "text": [
      " cat1 2\n",
      "cat2 2\n",
      "cat3 2\n",
      "cat4 2\n",
      "cat5 2\n",
      "cat6 2\n",
      "cat7 2\n",
      "cat8 2\n",
      "cat9 2\n",
      "cat10 2\n",
      "cat11 2\n",
      "cat12 2\n",
      "cat13 2\n",
      "cat14 2\n",
      "cat15 2\n",
      "cat16 2\n",
      "cat17 2\n",
      "cat18 2\n",
      "cat19 2\n",
      "cat20 2\n",
      "cat21 2\n",
      "cat22 2\n",
      "cat23 2\n",
      "cat24 2\n",
      "cat25 2\n",
      "cat26 2\n",
      "cat27 2\n",
      "cat28 2\n",
      "cat29 2\n",
      "cat30 2\n",
      "cat31 2\n",
      "cat32 2\n",
      "cat33 2\n",
      "cat34 2\n",
      "cat35 2\n",
      "cat36 2\n",
      "cat37 2\n",
      "cat38 2\n",
      "cat39 2\n",
      "cat40 2\n",
      "cat41 2\n",
      "cat42 2\n",
      "cat43 2\n",
      "cat44 2\n",
      "cat45 2\n",
      "cat46 2\n",
      "cat47 2\n",
      "cat48 2\n",
      "cat49 2\n",
      "cat50 2\n",
      "cat51 2\n",
      "cat52 2\n",
      "cat53 2\n",
      "cat54 2\n",
      "cat55 2\n",
      "cat56 2\n",
      "cat57 2\n",
      "cat58 2\n",
      "cat59 2\n",
      "cat60 2\n",
      "cat61 2\n",
      "cat62 2\n",
      "cat63 2\n",
      "cat64 2\n",
      "cat65 2\n",
      "cat66 2\n",
      "cat67 2\n",
      "cat68 2\n",
      "cat69 2\n",
      "cat70 2\n",
      "cat71 2\n",
      "cat72 2\n",
      "cat73 3\n",
      "cat74 3\n",
      "cat75 3\n",
      "cat76 3\n",
      "cat77 4\n",
      "cat78 4\n",
      "cat79 4\n",
      "cat80 4\n",
      "cat81 4\n",
      "cat82 4\n",
      "cat83 4\n",
      "cat84 4\n",
      "cat85 4\n",
      "cat86 4\n",
      "cat87 4\n",
      "cat88 4\n",
      "cat89 8\n",
      "cat90 7\n",
      "cat91 8\n",
      "cat92 7\n",
      "cat93 5\n",
      "cat94 7\n",
      "cat95 5\n",
      "cat96 8\n",
      "cat97 7\n",
      "cat98 5\n",
      "cat99 16\n",
      "cat100 15\n",
      "cat101 19\n",
      "cat102 9\n",
      "cat103 13\n",
      "cat104 17\n",
      "cat105 20\n",
      "cat106 17\n",
      "cat107 20\n",
      "cat108 11\n",
      "cat109 84\n",
      "cat110 131\n",
      "cat111 16\n",
      "cat112 51\n",
      "cat113 61\n",
      "cat114 19\n",
      "cat115 23\n",
      "cat116 326\n"
     ]
    }
   ],
   "source": [
    "for colname in catcols:\n",
    "    print colname, len(set(train[colname].values))"
   ]
  },
  {
   "cell_type": "code",
   "execution_count": null,
   "metadata": {},
   "outputs": [],
   "source": [
    ""
   ]
  }
 ],
 "metadata": {
  "kernelspec": {
   "display_name": "Python 2",
   "language": "python",
   "name": "python2"
  },
  "language_info": {
   "codemirror_mode": {
    "name": "ipython",
    "version": 2.0
   },
   "file_extension": ".py",
   "mimetype": "text/x-python",
   "name": "python",
   "nbconvert_exporter": "python",
   "pygments_lexer": "ipython2",
   "version": "2.7.11"
  }
 },
 "nbformat": 4,
 "nbformat_minor": 0
}